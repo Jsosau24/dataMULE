{
 "cells": [
  {
   "cell_type": "code",
   "execution_count": 2,
   "metadata": {},
   "outputs": [],
   "source": [
    "from api_utils import *\n",
    "from datetime import datetime\n",
    "\n",
    "# Automatically reload external modules\n",
    "%load_ext autoreload\n",
    "%autoreload 2"
   ]
  },
  {
   "cell_type": "code",
   "execution_count": 4,
   "metadata": {},
   "outputs": [],
   "source": [
    "access_token = get_access_token()"
   ]
  },
  {
   "cell_type": "code",
   "execution_count": 5,
   "metadata": {},
   "outputs": [
    {
     "name": "stdout",
     "output_type": "stream",
     "text": [
      "1709428961\n"
     ]
    }
   ],
   "source": [
    "import time\n",
    "\n",
    "# Get the current UNIX timestamp\n",
    "now = int(time.time())\n",
    "\n",
    "load_dotenv()\n",
    "last = os.getenv('api_last_update')"
   ]
  },
  {
   "cell_type": "code",
   "execution_count": 7,
   "metadata": {},
   "outputs": [],
   "source": [
    "# Get the current UNIX timestamp\n",
    "now = 1709428961\n",
    "last = 1709101373"
   ]
  },
  {
   "cell_type": "code",
   "execution_count": 12,
   "metadata": {},
   "outputs": [],
   "source": [
    "url = f'https://cloud.hawkindynamics.com/api/colby?from={last}&to={now}'\n",
    "headers = {\n",
    "    'Authorization': f'Bearer {access_token}',\n",
    "}\n",
    "data  = requests.get(url, headers=headers)"
   ]
  },
  {
   "cell_type": "code",
   "execution_count": 13,
   "metadata": {},
   "outputs": [],
   "source": [
    "data = data.json()\n",
    "data = data['data']\n",
    "jump = data[0]"
   ]
  },
  {
   "cell_type": "code",
   "execution_count": 16,
   "metadata": {},
   "outputs": [
    {
     "name": "stdout",
     "output_type": "stream",
     "text": [
      "Wv4gh0gtHPq1Gf476p8D\n"
     ]
    }
   ],
   "source": [
    "print(jump['athlete']['id'])"
   ]
  },
  {
   "cell_type": "code",
   "execution_count": 3,
   "metadata": {},
   "outputs": [],
   "source": [
    "def update_env_file(env_file_path, key, new_value):\n",
    "    \"\"\"Update or add an environment variable in the .env file.\"\"\"\n",
    "    # Attempt to read the existing lines\n",
    "    try:\n",
    "        with open(env_file_path, 'r') as file:\n",
    "            lines = file.readlines()\n",
    "    except FileNotFoundError:\n",
    "        lines = []\n",
    "    \n",
    "    # Check if the key exists and update it\n",
    "    key_found = False\n",
    "    for i, line in enumerate(lines):\n",
    "        if line.startswith(f\"{key}=\"):\n",
    "            lines[i] = f\"{key}={new_value}\\n\"\n",
    "            key_found = True\n",
    "            break\n",
    "    \n",
    "    # If the key wasn't found, append it\n",
    "    if not key_found:\n",
    "        lines.append(f\"{key}={new_value}\\n\")\n",
    "    \n",
    "    # Write the changes back to the .env file\n",
    "    with open(env_file_path, 'w') as file:\n",
    "        file.writelines(lines)"
   ]
  }
 ],
 "metadata": {
  "kernelspec": {
   "display_name": "venv",
   "language": "python",
   "name": "python3"
  },
  "language_info": {
   "codemirror_mode": {
    "name": "ipython",
    "version": 3
   },
   "file_extension": ".py",
   "mimetype": "text/x-python",
   "name": "python",
   "nbconvert_exporter": "python",
   "pygments_lexer": "ipython3",
   "version": "3.10.6"
  }
 },
 "nbformat": 4,
 "nbformat_minor": 2
}
