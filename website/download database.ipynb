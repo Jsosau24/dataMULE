{
 "cells": [
  {
   "cell_type": "code",
   "execution_count": 7,
   "metadata": {},
   "outputs": [
    {
     "name": "stdout",
     "output_type": "stream",
     "text": [
      "The autoreload extension is already loaded. To reload it, use:\n",
      "  %reload_ext autoreload\n"
     ]
    }
   ],
   "source": [
    "from api_utils import *\n",
    "from datetime import datetime\n",
    "\n",
    "# Automatically reload external modules\n",
    "%load_ext autoreload\n",
    "%autoreload 2\n",
    "\n",
    "data = get_athlete_data('Jxhi9QTiamSwrSm15rkI')\n",
    "data = data['data']"
   ]
  },
  {
   "cell_type": "code",
   "execution_count": 3,
   "metadata": {},
   "outputs": [],
   "source": [
    "def update_env_file(env_file_path, key, new_value):\n",
    "    \"\"\"Update or add an environment variable in the .env file.\"\"\"\n",
    "    # Attempt to read the existing lines\n",
    "    try:\n",
    "        with open(env_file_path, 'r') as file:\n",
    "            lines = file.readlines()\n",
    "    except FileNotFoundError:\n",
    "        lines = []\n",
    "    \n",
    "    # Check if the key exists and update it\n",
    "    key_found = False\n",
    "    for i, line in enumerate(lines):\n",
    "        if line.startswith(f\"{key}=\"):\n",
    "            lines[i] = f\"{key}={new_value}\\n\"\n",
    "            key_found = True\n",
    "            break\n",
    "    \n",
    "    # If the key wasn't found, append it\n",
    "    if not key_found:\n",
    "        lines.append(f\"{key}={new_value}\\n\")\n",
    "    \n",
    "    # Write the changes back to the .env file\n",
    "    with open(env_file_path, 'w') as file:\n",
    "        file.writelines(lines)\n",
    "\n",
    "# Example usage\n",
    "update_env_file('.env', 'api_last_update', 1)\n"
   ]
  }
 ],
 "metadata": {
  "kernelspec": {
   "display_name": "venv",
   "language": "python",
   "name": "python3"
  },
  "language_info": {
   "codemirror_mode": {
    "name": "ipython",
    "version": 3
   },
   "file_extension": ".py",
   "mimetype": "text/x-python",
   "name": "python",
   "nbconvert_exporter": "python",
   "pygments_lexer": "ipython3",
   "version": "3.10.6"
  }
 },
 "nbformat": 4,
 "nbformat_minor": 2
}
